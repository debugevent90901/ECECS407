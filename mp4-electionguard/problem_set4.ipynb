{
 "cells": [
  {
   "cell_type": "markdown",
   "metadata": {},
   "source": [
    "# ECE407 Problem Set 4\n",
    "\n",
    "Tian Xie    tianxie3\n",
    "\n"
   ]
  },
  {
   "cell_type": "markdown",
   "metadata": {},
   "source": [
    "## (a)\n",
    "+ Step 1: Calculate $\\sqrt N$, which can be done using [Babylonian Method](https://en.wikipedia.org/wiki/Methods_of_computing_square_roots#Babylonian_method)\n",
    "+ Step 2: Without loss of generality, assume $p<q$. Since $\\delta=|p-q|$ we know $\\sqrt N-\\delta < p < \\sqrt N$, $\\sqrt N < q < \\delta + \\sqrt N$. Therefore, we only need to traverse in total $\\delta$ possibilities to find to $p,q$ by checking whether $\\frac{N}{p}$ is an integer. The time complexity is $O(\\delta)$"
   ]
  },
  {
   "cell_type": "code",
   "execution_count": 25,
   "metadata": {},
   "outputs": [],
   "source": [
    "N = 87467751838899666363869830142986631585801068159330150436150591740667960033865475397864663992823127825702579231692196232974894820315363301371817538096916900612524918354709923084532237461885542538717695286548343280457589517786962674645987869572814978638269757196296189833125540553465719468105614843764909161240325830408408117182421546959498498119216271005212153530925402472063578195573971323933439849446582832381081284358218758725674490118401654663871841471524909375703937558589625783932798750121675586535344470450644107803481101293028285708981903016082272913976898254614310462531570057188703779531855302859423676881\n"
   ]
  },
  {
   "cell_type": "code",
   "execution_count": 35,
   "metadata": {},
   "outputs": [
    {
     "name": "stdout",
     "output_type": "stream",
     "text": [
      "9352419571367596976939279289180413447699593351180217187280653361389412531812702891792282763505995136608679026507582290903916195465065737145139940492408335268162359576996486883373274104291965294741841070659192427935117575863981847460287191342833560356018485176253542816589237713501814110266911435430483269654\n"
     ]
    }
   ],
   "source": [
    "# implementation of Babylonian_method(https://en.wikipedia.org/wiki/Methods_of_computing_square_roots#Babylonian_method)\n",
    "\n",
    "def sqrt_large_int(N, shreshold = 5):\n",
    "    # init sqrt to a value close to \\sqrt N\n",
    "    prev = N >> (N.bit_length() // 2)\n",
    "    while True:\n",
    "        curr = (prev + N//prev) >> 1\n",
    "        if  -1*shreshold < (curr - prev) < shreshold:\n",
    "            # print(curr - prev)\n",
    "            return curr\n",
    "        prev = curr\n",
    "\n",
    "sqrt = sqrt_large_int(N)\n",
    "print(sqrt)"
   ]
  },
  {
   "cell_type": "markdown",
   "metadata": {},
   "source": [
    "## (b)"
   ]
  },
  {
   "cell_type": "code",
   "execution_count": 38,
   "metadata": {},
   "outputs": [
    {
     "name": "stdout",
     "output_type": "stream",
     "text": [
      "p= 9352419571367596976939279289180413447699593351180217187280653361389412531812702891792282763505995136608679026507582290903916195465065737145139940492408335268162359576996486883373274104291965294741841070659192427935117575863981847460287191342833560356018485176253542816589237713501814110266911435430483265167\n",
      "q= 9352419571367596976939279289180413447699593351180217187280653361389412531812702891792282763505995136608679026507582290903916195465065737145139940492408335268162359576996486883373274104291965294741841070659192427935117575863981847460287191342833560356018485176253542816589237713501814110266911435430483274143\n"
     ]
    }
   ],
   "source": [
    "delta = 10000\n",
    "\n",
    "for i in range(sqrt-delta, sqrt+delta):\n",
    "    j = N // i\n",
    "    if i * j == N:\n",
    "        if -1*delta < i - j < delta:\n",
    "            print(\"p=\", i)\n",
    "            print(\"q=\", j)\n",
    "            break"
   ]
  }
 ],
 "metadata": {
  "interpreter": {
   "hash": "aee8b7b246df8f9039afb4144a1f6fd8d2ca17a180786b69acc140d282b71a49"
  },
  "kernelspec": {
   "display_name": "Python 3.9.7 64-bit",
   "language": "python",
   "name": "python3"
  },
  "language_info": {
   "codemirror_mode": {
    "name": "ipython",
    "version": 3
   },
   "file_extension": ".py",
   "mimetype": "text/x-python",
   "name": "python",
   "nbconvert_exporter": "python",
   "pygments_lexer": "ipython3",
   "version": "3.9.7"
  },
  "orig_nbformat": 4
 },
 "nbformat": 4,
 "nbformat_minor": 2
}
